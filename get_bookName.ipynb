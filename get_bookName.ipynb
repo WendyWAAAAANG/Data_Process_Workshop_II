{
 "cells": [
  {
   "cell_type": "code",
   "execution_count": 16,
   "metadata": {},
   "outputs": [
    {
     "name": "stdout",
     "output_type": "stream",
     "text": [
      "Title: Six Frightened Men\n",
      "\n",
      "Author: Randall Garrett\n",
      "\n",
      "Release Date: May 26, 2021 [eBook #65446]\n",
      "\n",
      "65446\n",
      "Language: English\n",
      "\n"
     ]
    }
   ],
   "source": [
    "import re\n",
    "with open('1.txt') as f:\n",
    "    for lines in f.readlines():\n",
    "        if 'Title: ' in lines:\n",
    "            print(lines)\n",
    "        if 'Author: 'in lines:\n",
    "            print(lines)\n",
    "        if 'Release Date: ' in lines:\n",
    "            print(lines)\n",
    "            page_id=n = re.findall(r\"eBook #(.+?)]\", lines)[0]\n",
    "            print(page_id)\n",
    "        if 'Language: 'in lines:\n",
    "            print(lines)\n",
    "            break\n"
   ]
  },
  {
   "cell_type": "code",
   "execution_count": 17,
   "metadata": {},
   "outputs": [
    {
     "data": {
      "text/plain": [
       "'https://www.gutenberg.org/cache/epub/65446/pg65446.cover.medium.jpg'"
      ]
     },
     "execution_count": 17,
     "metadata": {},
     "output_type": "execute_result"
    }
   ],
   "source": [
    "book_image=\"https://www.gutenberg.org/cache/epub/{page_id}/pg{page_id}.cover.medium.jpg\".format(page_id=page_id)\n",
    "book_image"
   ]
  },
  {
   "cell_type": "code",
   "execution_count": null,
   "metadata": {},
   "outputs": [],
   "source": []
  }
 ],
 "metadata": {
  "interpreter": {
   "hash": "57baaf682401b82f7215e8ecfb9ab3b14349a5fdc9bdb616904650b87c34614c"
  },
  "kernelspec": {
   "display_name": "Python 3.8.3 ('base')",
   "language": "python",
   "name": "python3"
  },
  "language_info": {
   "codemirror_mode": {
    "name": "ipython",
    "version": 3
   },
   "file_extension": ".py",
   "mimetype": "text/x-python",
   "name": "python",
   "nbconvert_exporter": "python",
   "pygments_lexer": "ipython3",
   "version": "3.8.3"
  },
  "orig_nbformat": 4,
  "vscode": {
   "interpreter": {
    "hash": "57baaf682401b82f7215e8ecfb9ab3b14349a5fdc9bdb616904650b87c34614c"
   }
  }
 },
 "nbformat": 4,
 "nbformat_minor": 2
}
